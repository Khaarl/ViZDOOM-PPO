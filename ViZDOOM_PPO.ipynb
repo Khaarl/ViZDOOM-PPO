{
  "nbformat": 4,
  "nbformat_minor": 0,
  "metadata": {
    "colab": {
      "provenance": [],
      "authorship_tag": "ABX9TyMC0Oxc8ypzI3suuLc3FNGB",
      "include_colab_link": true
    },
    "kernelspec": {
      "name": "python3",
      "display_name": "Python 3"
    },
    "language_info": {
      "name": "python"
    }
  },
  "cells": [
    {
      "cell_type": "markdown",
      "metadata": {
        "id": "view-in-github",
        "colab_type": "text"
      },
      "source": [
        "<a href=\"https://colab.research.google.com/github/Khaarl/ViZDOOM-PPO/blob/main/ViZDOOM_PPO.ipynb\" target=\"_parent\"><img src=\"https://colab.research.google.com/assets/colab-badge.svg\" alt=\"Open In Colab\"/></a>"
      ]
    },
    {
      "cell_type": "code",
      "execution_count": 1,
      "metadata": {
        "colab": {
          "base_uri": "https://localhost:8080/",
          "height": 800
        },
        "id": "DuFVq53ctMnC",
        "outputId": "772f5b78-d62b-49b1-e868-65268627ba00"
      },
      "outputs": [
        {
          "output_type": "stream",
          "name": "stdout",
          "text": [
            "Mounted at /content/drive\n",
            "Collecting vizdoom\n",
            "  Downloading vizdoom-1.2.4-cp310-cp310-manylinux_2_28_x86_64.whl.metadata (11 kB)\n",
            "Requirement already satisfied: numpy in /usr/local/lib/python3.10/dist-packages (from vizdoom) (1.26.4)\n",
            "Collecting gymnasium>=0.28.0 (from vizdoom)\n",
            "  Downloading gymnasium-1.0.0-py3-none-any.whl.metadata (9.5 kB)\n",
            "Requirement already satisfied: pygame>=2.1.3 in /usr/local/lib/python3.10/dist-packages (from vizdoom) (2.6.1)\n",
            "Requirement already satisfied: cloudpickle>=1.2.0 in /usr/local/lib/python3.10/dist-packages (from gymnasium>=0.28.0->vizdoom) (3.1.0)\n",
            "Requirement already satisfied: typing-extensions>=4.3.0 in /usr/local/lib/python3.10/dist-packages (from gymnasium>=0.28.0->vizdoom) (4.12.2)\n",
            "Collecting farama-notifications>=0.0.1 (from gymnasium>=0.28.0->vizdoom)\n",
            "  Downloading Farama_Notifications-0.0.4-py3-none-any.whl.metadata (558 bytes)\n",
            "Downloading vizdoom-1.2.4-cp310-cp310-manylinux_2_28_x86_64.whl (28.1 MB)\n",
            "\u001b[2K   \u001b[90m━━━━━━━━━━━━━━━━━━━━━━━━━━━━━━━━━━━━━━━━\u001b[0m \u001b[32m28.1/28.1 MB\u001b[0m \u001b[31m48.3 MB/s\u001b[0m eta \u001b[36m0:00:00\u001b[0m\n",
            "\u001b[?25hDownloading gymnasium-1.0.0-py3-none-any.whl (958 kB)\n",
            "\u001b[2K   \u001b[90m━━━━━━━━━━━━━━━━━━━━━━━━━━━━━━━━━━━━━━━━\u001b[0m \u001b[32m958.1/958.1 kB\u001b[0m \u001b[31m33.5 MB/s\u001b[0m eta \u001b[36m0:00:00\u001b[0m\n",
            "\u001b[?25hDownloading Farama_Notifications-0.0.4-py3-none-any.whl (2.5 kB)\n",
            "Installing collected packages: farama-notifications, gymnasium, vizdoom\n",
            "Successfully installed farama-notifications-0.0.4 gymnasium-1.0.0 vizdoom-1.2.4\n",
            "Requirement already satisfied: gymnasium in /usr/local/lib/python3.10/dist-packages (1.0.0)\n",
            "Requirement already satisfied: numpy>=1.21.0 in /usr/local/lib/python3.10/dist-packages (from gymnasium) (1.26.4)\n",
            "Requirement already satisfied: cloudpickle>=1.2.0 in /usr/local/lib/python3.10/dist-packages (from gymnasium) (3.1.0)\n",
            "Requirement already satisfied: typing-extensions>=4.3.0 in /usr/local/lib/python3.10/dist-packages (from gymnasium) (4.12.2)\n",
            "Requirement already satisfied: farama-notifications>=0.0.1 in /usr/local/lib/python3.10/dist-packages (from gymnasium) (0.0.4)\n",
            "Requirement already satisfied: numpy in /usr/local/lib/python3.10/dist-packages (1.26.4)\n",
            "Requirement already satisfied: opencv-python in /usr/local/lib/python3.10/dist-packages (4.10.0.84)\n",
            "Requirement already satisfied: numpy>=1.21.2 in /usr/local/lib/python3.10/dist-packages (from opencv-python) (1.26.4)\n"
          ]
        },
        {
          "output_type": "error",
          "ename": "FileDoesNotExistException",
          "evalue": "File \"/content/drive/MyDrive/Doom/basic.cfg | ./scenarios//content/drive/mydrive/doom/basic.cfg | /usr/local/lib/python3.10/dist-packages/vizdoom/scenarios//content/drive/mydrive/doom/basic.cfg\" does not exist.",
          "traceback": [
            "\u001b[0;31m---------------------------------------------------------------------------\u001b[0m",
            "\u001b[0;31mFileDoesNotExistException\u001b[0m                 Traceback (most recent call last)",
            "\u001b[0;32m<ipython-input-1-130e3d8d24b1>\u001b[0m in \u001b[0;36m<cell line: 59>\u001b[0;34m()\u001b[0m\n\u001b[1;32m     57\u001b[0m \u001b[0;34m\u001b[0m\u001b[0m\n\u001b[1;32m     58\u001b[0m \u001b[0;31m# Create the Doom environment\u001b[0m\u001b[0;34m\u001b[0m\u001b[0;34m\u001b[0m\u001b[0m\n\u001b[0;32m---> 59\u001b[0;31m \u001b[0mgame\u001b[0m \u001b[0;34m=\u001b[0m \u001b[0mcreate_doom_environment\u001b[0m\u001b[0;34m(\u001b[0m\u001b[0mscenario_path\u001b[0m\u001b[0;34m,\u001b[0m \u001b[0mconfig_path\u001b[0m\u001b[0;34m)\u001b[0m\u001b[0;34m\u001b[0m\u001b[0;34m\u001b[0m\u001b[0m\n\u001b[0m\u001b[1;32m     60\u001b[0m \u001b[0;34m\u001b[0m\u001b[0m\n\u001b[1;32m     61\u001b[0m \u001b[0;31m# Example of running a few episodes\u001b[0m\u001b[0;34m\u001b[0m\u001b[0;34m\u001b[0m\u001b[0m\n",
            "\u001b[0;32m<ipython-input-1-130e3d8d24b1>\u001b[0m in \u001b[0;36mcreate_doom_environment\u001b[0;34m(scenario_path, config_path)\u001b[0m\n\u001b[1;32m     23\u001b[0m \u001b[0;32mdef\u001b[0m \u001b[0mcreate_doom_environment\u001b[0m\u001b[0;34m(\u001b[0m\u001b[0mscenario_path\u001b[0m\u001b[0;34m,\u001b[0m \u001b[0mconfig_path\u001b[0m\u001b[0;34m)\u001b[0m\u001b[0;34m:\u001b[0m\u001b[0;34m\u001b[0m\u001b[0;34m\u001b[0m\u001b[0m\n\u001b[1;32m     24\u001b[0m     \u001b[0mgame\u001b[0m \u001b[0;34m=\u001b[0m \u001b[0mDoomGame\u001b[0m\u001b[0;34m(\u001b[0m\u001b[0;34m)\u001b[0m\u001b[0;34m\u001b[0m\u001b[0;34m\u001b[0m\u001b[0m\n\u001b[0;32m---> 25\u001b[0;31m     \u001b[0mgame\u001b[0m\u001b[0;34m.\u001b[0m\u001b[0mload_config\u001b[0m\u001b[0;34m(\u001b[0m\u001b[0mconfig_path\u001b[0m\u001b[0;34m)\u001b[0m\u001b[0;34m\u001b[0m\u001b[0;34m\u001b[0m\u001b[0m\n\u001b[0m\u001b[1;32m     26\u001b[0m     \u001b[0mgame\u001b[0m\u001b[0;34m.\u001b[0m\u001b[0mset_doom_scenario_path\u001b[0m\u001b[0;34m(\u001b[0m\u001b[0mscenario_path\u001b[0m\u001b[0;34m)\u001b[0m\u001b[0;34m\u001b[0m\u001b[0;34m\u001b[0m\u001b[0m\n\u001b[1;32m     27\u001b[0m     \u001b[0mgame\u001b[0m\u001b[0;34m.\u001b[0m\u001b[0mset_doom_map\u001b[0m\u001b[0;34m(\u001b[0m\u001b[0;34m\"map01\"\u001b[0m\u001b[0;34m)\u001b[0m  \u001b[0;31m# Or whichever map you want\u001b[0m\u001b[0;34m\u001b[0m\u001b[0;34m\u001b[0m\u001b[0m\n",
            "\u001b[0;31mFileDoesNotExistException\u001b[0m: File \"/content/drive/MyDrive/Doom/basic.cfg | ./scenarios//content/drive/mydrive/doom/basic.cfg | /usr/local/lib/python3.10/dist-packages/vizdoom/scenarios//content/drive/mydrive/doom/basic.cfg\" does not exist."
          ]
        }
      ],
      "source": [
        "# Ensure Google Drive is mounted\n",
        "from google.colab import drive\n",
        "drive.mount('/content/drive')\n",
        "\n",
        "!pip install vizdoom\n",
        "\n",
        "!pip install gymnasium\n",
        "!pip install numpy\n",
        "!pip install opencv-python\n",
        "\n",
        "# After installation, you might need to restart the runtime for the changes to take effect.\n",
        "# You can do this by going to Runtime -> Restart runtime in the Colab menu.\n",
        "\n",
        "# --- Preparation of the Environment (Based on the article's likely next steps) ---\n",
        "\n",
        "# Import necessary libraries\n",
        "import gymnasium as gym # Or import gym\n",
        "import numpy as np\n",
        "import cv2\n",
        "from vizdoom import DoomGame, Mode, ScreenFormat, ScreenResolution\n",
        "\n",
        "# Define a function to create the Doom environment (following the structure likely outlined in the article)\n",
        "def create_doom_environment(scenario_path, config_path):\n",
        "    game = DoomGame()\n",
        "    game.load_config(config_path)\n",
        "    game.set_doom_scenario_path(scenario_path)\n",
        "    game.set_doom_map(\"map01\")  # Or whichever map you want\n",
        "\n",
        "    # Configure screen settings (adjust as needed based on the article)\n",
        "    game.set_screen_format(ScreenFormat.GRAY8)\n",
        "    game.set_screen_resolution(ScreenResolution.RES_640X480)\n",
        "\n",
        "    # Other game settings (as in the article)\n",
        "    game.set_render_hud(False)\n",
        "    game.set_render_crosshair(False)\n",
        "    game.set_render_weapon(True)\n",
        "    game.set_render_effects_sprites(False)\n",
        "    game.set_render_decals(False)\n",
        "    game.set_render_particles(False)\n",
        "    game.set_window_visible(True) # Set to False for headless training\n",
        "\n",
        "    game.set_mode(Mode.PLAYER)  # Or Mode.SPECTATOR, Mode.ASYNC_PLAYER, Mode.ASYNC_SPECTATOR\n",
        "\n",
        "    game.init()\n",
        "\n",
        "    # Get the available actions\n",
        "    n_actions = game.get_available_buttons().shape[0]\n",
        "\n",
        "    return game\n",
        "\n",
        "# --- Example Usage (Illustrative, adapt based on the article) ---\n",
        "\n",
        "# Define paths to your scenario and config files.\n",
        "# Assuming they are in your Google Drive in a folder named 'Doom'\n",
        "scenario_path = '/content/drive/MyDrive/Doom/basic.wad'  # Replace with your actual path\n",
        "config_path = '/content/drive/MyDrive/Doom/basic.cfg'   # Replace with your actual path\n",
        "\n",
        "# Create the Doom environment\n",
        "game = create_doom_environment(scenario_path, config_path)\n",
        "\n",
        "# Example of running a few episodes\n",
        "episodes = 2\n",
        "for episode in range(episodes):\n",
        "    game.new_episode()\n",
        "    while not game.is_episode_finished():\n",
        "        state = game.get_state()\n",
        "        # Get the game screen\n",
        "        screen = state.screen_buffer\n",
        "        # Perform an action (e.g., a random action)\n",
        "        n = game.get_available_buttons().shape[0]\n",
        "        action = np.zeros(n)\n",
        "        if game.is_episode_finished():\n",
        "            break\n",
        "        action[np.random.randint(0, n)] = 1\n",
        "        game.make_action(action.tolist())\n",
        "        reward = game.get_last_reward()\n",
        "        print('reward:', reward)\n",
        "    print('Episode:', episode, 'finished')\n",
        "\n",
        "game.close()\n"
      ]
    },
    {
      "cell_type": "code",
      "source": [],
      "metadata": {
        "id": "nIrasS27uiM9"
      },
      "execution_count": null,
      "outputs": []
    }
  ]
}