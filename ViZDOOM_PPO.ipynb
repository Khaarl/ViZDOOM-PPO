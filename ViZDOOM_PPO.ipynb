{
  "cells": [
    {
      "cell_type": "markdown",
      "metadata": {
        "colab_type": "text",
        "id": "view-in-github"
      },
      "source": [
        "<a href=\"https://colab.research.google.com/github/Khaarl/ViZDOOM-PPO/blob/STAGING/ViZDOOM_PPO.ipynb\" target=\"_parent\"><img src=\"https://colab.research.google.com/assets/colab-badge.svg\" alt=\"Open In Colab\"/></a>"
      ]
    },
    {
      "cell_type": "code",
      "execution_count": 2,
      "metadata": {
        "colab": {
          "base_uri": "https://localhost:8080/"
        },
        "id": "nIrasS27uiM9",
        "outputId": "bd40407c-136d-4fa7-be5e-e04fd792f3be"
      },
      "outputs": [
        {
          "name": "stdout",
          "output_type": "stream",
          "text": [
            "Drive already mounted at /content/drive; to attempt to forcibly remount, call drive.mount(\"/content/drive\", force_remount=True).\n",
            "Google Drive base folder: /content/drive/MyDrive/ViZDoom-PPO\n"
          ]
        }
      ],
      "source": [
        "# CELL 1: Mount Drive and Setup Base Paths\n",
        "from google.colab import drive\n",
        "drive.mount('/content/drive')\n",
        "\n",
        "import os\n",
        "GDRIVE_BASE = \"/content/drive/MyDrive/ViZDoom-PPO\"\n",
        "print(f\"Google Drive base folder: {GDRIVE_BASE}\")"
      ]
    },
    {
      "cell_type": "code",
      "execution_count": 5,
      "metadata": {
        "colab": {
          "base_uri": "https://localhost:8080/"
        },
        "id": "InbAp2joWQyl",
        "outputId": "043fe940-339b-43a0-efaa-03f201db0413"
      },
      "outputs": [
        {
          "name": "stdout",
          "output_type": "stream",
          "text": [
            "Hit:1 https://developer.download.nvidia.com/compute/cuda/repos/ubuntu2204/x86_64  InRelease\n",
            "Hit:2 http://security.ubuntu.com/ubuntu jammy-security InRelease\n",
            "Hit:3 https://r2u.stat.illinois.edu/ubuntu jammy InRelease\n",
            "Hit:4 http://archive.ubuntu.com/ubuntu jammy InRelease\n",
            "Hit:5 http://archive.ubuntu.com/ubuntu jammy-updates InRelease\n",
            "Hit:6 https://cloud.r-project.org/bin/linux/ubuntu jammy-cran40/ InRelease\n",
            "Hit:7 http://archive.ubuntu.com/ubuntu jammy-backports InRelease\n",
            "Hit:8 https://ppa.launchpadcontent.net/deadsnakes/ppa/ubuntu jammy InRelease\n",
            "Hit:9 https://ppa.launchpadcontent.net/graphics-drivers/ppa/ubuntu jammy InRelease\n",
            "Hit:10 https://ppa.launchpadcontent.net/ubuntugis/ppa/ubuntu jammy InRelease\n",
            "Reading package lists... Done\n",
            "W: Skipping acquire of configured file 'main/source/Sources' as repository 'https://r2u.stat.illinois.edu/ubuntu jammy InRelease' does not seem to provide it (sources.list entry misspelt?)\n",
            "Reading package lists... Done\n",
            "Building dependency tree... Done\n",
            "Reading state information... Done\n",
            "build-essential is already the newest version (12.9ubuntu3).\n",
            "libbz2-dev is already the newest version (1.0.8-5build1).\n",
            "libjpeg-dev is already the newest version (8c-2ubuntu10).\n",
            "libfluidsynth-dev is already the newest version (2.2.5-1).\n",
            "libgme-dev is already the newest version (0.6.3-2).\n",
            "libopenal-dev is already the newest version (1:1.19.1-2build3).\n",
            "libwildmidi-dev is already the newest version (0.4.3-1).\n",
            "nasm is already the newest version (2.15.05-1).\n",
            "cmake is already the newest version (3.22.1-1ubuntu1.22.04.2).\n",
            "git is already the newest version (1:2.34.1-1ubuntu1.11).\n",
            "tar is already the newest version (1.34+dfsg-1ubuntu0.1.22.04.2).\n",
            "unzip is already the newest version (6.0-26ubuntu3.2).\n",
            "zlib1g-dev is already the newest version (1:1.2.11.dfsg-2ubuntu9.2).\n",
            "ffmpeg is already the newest version (7:4.4.2-0ubuntu0.22.04.1).\n",
            "libgtk2.0-dev is already the newest version (2.24.33-2ubuntu2.1).\n",
            "libsdl2-dev is already the newest version (2.0.20+dfsg-2ubuntu1.22.04.1).\n",
            "timidity is already the newest version (2.14.0-8ubuntu1.22.04.1).\n",
            "0 upgraded, 0 newly installed, 0 to remove and 50 not upgraded.\n",
            "Requirement already satisfied: vizdoom in /usr/local/lib/python3.10/dist-packages (1.2.4)\n",
            "Requirement already satisfied: numpy in /usr/local/lib/python3.10/dist-packages (from vizdoom) (1.26.4)\n",
            "Requirement already satisfied: gymnasium>=0.28.0 in /usr/local/lib/python3.10/dist-packages (from vizdoom) (1.0.0)\n",
            "Requirement already satisfied: pygame>=2.1.3 in /usr/local/lib/python3.10/dist-packages (from vizdoom) (2.6.1)\n",
            "Requirement already satisfied: cloudpickle>=1.2.0 in /usr/local/lib/python3.10/dist-packages (from gymnasium>=0.28.0->vizdoom) (3.1.0)\n",
            "Requirement already satisfied: typing-extensions>=4.3.0 in /usr/local/lib/python3.10/dist-packages (from gymnasium>=0.28.0->vizdoom) (4.12.2)\n",
            "Requirement already satisfied: farama-notifications>=0.0.1 in /usr/local/lib/python3.10/dist-packages (from gymnasium>=0.28.0->vizdoom) (0.0.4)\n",
            "Requirement already satisfied: stable-baselines3[extra] in /usr/local/lib/python3.10/dist-packages (2.4.1)\n",
            "Requirement already satisfied: gymnasium<1.1.0,>=0.29.1 in /usr/local/lib/python3.10/dist-packages (from stable-baselines3[extra]) (1.0.0)\n",
            "Requirement already satisfied: numpy<2.0,>=1.20 in /usr/local/lib/python3.10/dist-packages (from stable-baselines3[extra]) (1.26.4)\n",
            "Requirement already satisfied: torch>=1.13 in /usr/local/lib/python3.10/dist-packages (from stable-baselines3[extra]) (2.5.1+cu121)\n",
            "Requirement already satisfied: cloudpickle in /usr/local/lib/python3.10/dist-packages (from stable-baselines3[extra]) (3.1.0)\n",
            "Requirement already satisfied: pandas in /usr/local/lib/python3.10/dist-packages (from stable-baselines3[extra]) (2.2.2)\n",
            "Requirement already satisfied: matplotlib in /usr/local/lib/python3.10/dist-packages (from stable-baselines3[extra]) (3.10.0)\n",
            "Requirement already satisfied: opencv-python in /usr/local/lib/python3.10/dist-packages (from stable-baselines3[extra]) (4.10.0.84)\n",
            "Requirement already satisfied: pygame in /usr/local/lib/python3.10/dist-packages (from stable-baselines3[extra]) (2.6.1)\n",
            "Requirement already satisfied: tensorboard>=2.9.1 in /usr/local/lib/python3.10/dist-packages (from stable-baselines3[extra]) (2.17.1)\n",
            "Requirement already satisfied: psutil in /usr/local/lib/python3.10/dist-packages (from stable-baselines3[extra]) (5.9.5)\n",
            "Requirement already satisfied: tqdm in /usr/local/lib/python3.10/dist-packages (from stable-baselines3[extra]) (4.67.1)\n",
            "Requirement already satisfied: rich in /usr/local/lib/python3.10/dist-packages (from stable-baselines3[extra]) (13.9.4)\n",
            "Requirement already satisfied: ale-py>=0.9.0 in /usr/local/lib/python3.10/dist-packages (from stable-baselines3[extra]) (0.10.1)\n",
            "Requirement already satisfied: pillow in /usr/local/lib/python3.10/dist-packages (from stable-baselines3[extra]) (11.1.0)\n",
            "Requirement already satisfied: typing-extensions in /usr/local/lib/python3.10/dist-packages (from ale-py>=0.9.0->stable-baselines3[extra]) (4.12.2)\n",
            "Requirement already satisfied: farama-notifications>=0.0.1 in /usr/local/lib/python3.10/dist-packages (from gymnasium<1.1.0,>=0.29.1->stable-baselines3[extra]) (0.0.4)\n",
            "Requirement already satisfied: absl-py>=0.4 in /usr/local/lib/python3.10/dist-packages (from tensorboard>=2.9.1->stable-baselines3[extra]) (1.4.0)\n",
            "Requirement already satisfied: grpcio>=1.48.2 in /usr/local/lib/python3.10/dist-packages (from tensorboard>=2.9.1->stable-baselines3[extra]) (1.69.0)\n",
            "Requirement already satisfied: markdown>=2.6.8 in /usr/local/lib/python3.10/dist-packages (from tensorboard>=2.9.1->stable-baselines3[extra]) (3.7)\n",
            "Requirement already satisfied: packaging in /usr/local/lib/python3.10/dist-packages (from tensorboard>=2.9.1->stable-baselines3[extra]) (24.2)\n",
            "Requirement already satisfied: protobuf!=4.24.0,>=3.19.6 in /usr/local/lib/python3.10/dist-packages (from tensorboard>=2.9.1->stable-baselines3[extra]) (4.25.5)\n",
            "Requirement already satisfied: setuptools>=41.0.0 in /usr/local/lib/python3.10/dist-packages (from tensorboard>=2.9.1->stable-baselines3[extra]) (75.1.0)\n",
            "Requirement already satisfied: six>1.9 in /usr/local/lib/python3.10/dist-packages (from tensorboard>=2.9.1->stable-baselines3[extra]) (1.17.0)\n",
            "Requirement already satisfied: tensorboard-data-server<0.8.0,>=0.7.0 in /usr/local/lib/python3.10/dist-packages (from tensorboard>=2.9.1->stable-baselines3[extra]) (0.7.2)\n",
            "Requirement already satisfied: werkzeug>=1.0.1 in /usr/local/lib/python3.10/dist-packages (from tensorboard>=2.9.1->stable-baselines3[extra]) (3.1.3)\n",
            "Requirement already satisfied: filelock in /usr/local/lib/python3.10/dist-packages (from torch>=1.13->stable-baselines3[extra]) (3.16.1)\n",
            "Requirement already satisfied: networkx in /usr/local/lib/python3.10/dist-packages (from torch>=1.13->stable-baselines3[extra]) (3.4.2)\n",
            "Requirement already satisfied: jinja2 in /usr/local/lib/python3.10/dist-packages (from torch>=1.13->stable-baselines3[extra]) (3.1.5)\n",
            "Requirement already satisfied: fsspec in /usr/local/lib/python3.10/dist-packages (from torch>=1.13->stable-baselines3[extra]) (2024.10.0)\n",
            "Requirement already satisfied: sympy==1.13.1 in /usr/local/lib/python3.10/dist-packages (from torch>=1.13->stable-baselines3[extra]) (1.13.1)\n",
            "Requirement already satisfied: mpmath<1.4,>=1.1.0 in /usr/local/lib/python3.10/dist-packages (from sympy==1.13.1->torch>=1.13->stable-baselines3[extra]) (1.3.0)\n",
            "Requirement already satisfied: contourpy>=1.0.1 in /usr/local/lib/python3.10/dist-packages (from matplotlib->stable-baselines3[extra]) (1.3.1)\n",
            "Requirement already satisfied: cycler>=0.10 in /usr/local/lib/python3.10/dist-packages (from matplotlib->stable-baselines3[extra]) (0.12.1)\n",
            "Requirement already satisfied: fonttools>=4.22.0 in /usr/local/lib/python3.10/dist-packages (from matplotlib->stable-baselines3[extra]) (4.55.3)\n",
            "Requirement already satisfied: kiwisolver>=1.3.1 in /usr/local/lib/python3.10/dist-packages (from matplotlib->stable-baselines3[extra]) (1.4.8)\n",
            "Requirement already satisfied: pyparsing>=2.3.1 in /usr/local/lib/python3.10/dist-packages (from matplotlib->stable-baselines3[extra]) (3.2.1)\n",
            "Requirement already satisfied: python-dateutil>=2.7 in /usr/local/lib/python3.10/dist-packages (from matplotlib->stable-baselines3[extra]) (2.8.2)\n",
            "Requirement already satisfied: pytz>=2020.1 in /usr/local/lib/python3.10/dist-packages (from pandas->stable-baselines3[extra]) (2024.2)\n",
            "Requirement already satisfied: tzdata>=2022.7 in /usr/local/lib/python3.10/dist-packages (from pandas->stable-baselines3[extra]) (2024.2)\n",
            "Requirement already satisfied: markdown-it-py>=2.2.0 in /usr/local/lib/python3.10/dist-packages (from rich->stable-baselines3[extra]) (3.0.0)\n",
            "Requirement already satisfied: pygments<3.0.0,>=2.13.0 in /usr/local/lib/python3.10/dist-packages (from rich->stable-baselines3[extra]) (2.18.0)\n",
            "Requirement already satisfied: mdurl~=0.1 in /usr/local/lib/python3.10/dist-packages (from markdown-it-py>=2.2.0->rich->stable-baselines3[extra]) (0.1.2)\n",
            "Requirement already satisfied: MarkupSafe>=2.1.1 in /usr/local/lib/python3.10/dist-packages (from werkzeug>=1.0.1->tensorboard>=2.9.1->stable-baselines3[extra]) (3.0.2)\n"
          ]
        }
      ],
      "source": [
        "# CELL 2: Install Dependencies\n",
        "!apt-get update\n",
        "!apt-get install -y build-essential zlib1g-dev libsdl2-dev libjpeg-dev \\\n",
        "    nasm tar libbz2-dev libgtk2.0-dev cmake git libfluidsynth-dev libgme-dev \\\n",
        "    libopenal-dev timidity libwildmidi-dev unzip ffmpeg\n",
        "\n",
        "!pip install vizdoom\n",
        "!pip install stable-baselines3[extra]"
      ]
    },
    {
      "cell_type": "code",
      "execution_count": null,
      "metadata": {},
      "outputs": [],
      "source": [
        "# CELL 4: Create ViZDoom Environment\n"
      ]
    },
    {
      "cell_type": "code",
      "execution_count": 6,
      "metadata": {
        "colab": {
          "base_uri": "https://localhost:8080/"
        },
        "id": "q46kZxj4WaTZ",
        "outputId": "3e993031-96a3-4cee-a4b9-d5190bffc73b"
      },
      "outputs": [
        {
          "name": "stdout",
          "output_type": "stream",
          "text": [
            "Created local directories.\n",
            "Using existing freedoom2.wad at /content/scenarios/freedoom2.wad\n",
            "Using existing deathmatch.cfg at /content/scenarios/deathmatch.cfg\n"
          ]
        }
      ],
      "source": [
        "# CELL 3: Download Scenario Config and Handle WAD File\n",
        "import os\n",
        "import requests\n",
        "from pathlib import Path\n",
        "import hashlib\n",
        "\n",
        "# Base paths setup\n",
        "BASE_DIR = Path.cwd()\n",
        "SCENARIOS_DIR = BASE_DIR / \"scenarios\"\n",
        "MODELS_DIR = BASE_DIR / \"models\"\n",
        "LOGS_DIR = BASE_DIR / \"logs\"\n",
        "\n",
        "# Create directories\n",
        "for dir_path in [SCENARIOS_DIR, MODELS_DIR, LOGS_DIR]:\n",
        "    dir_path.mkdir(exist_ok=True)\n",
        "\n",
        "# File definitions with SHA256 checksums\n",
        "SCENARIO_FILES = {\n",
        "    \"deathmatch.cfg\": {\n",
        "        \"url\": \"https://raw.githubusercontent.com/Farama-Foundation/ViZDoom/master/scenarios/deathmatch.cfg\",\n",
        "        \"checksum\": None  # Add checksum if available\n",
        "    },\n",
        "    \"deathmatch.wad\": {\n",
        "        \"url\": \"https://raw.githubusercontent.com/Farama-Foundation/ViZDoom/master/scenarios/deathmatch.wad\",\n",
        "        \"checksum\": None  # Add checksum if available\n",
        "    }\n",
        "}\n",
        "\n",
        "def download_file(url: str, dest_path: Path) -> bool:\n",
        "    if dest_path.exists():\n",
        "        print(f\"File already exists: {dest_path.name}\")\n",
        "        return True\n",
        "        \n",
        "    try:\n",
        "        response = requests.get(url, stream=True)\n",
        "        response.raise_for_status()\n",
        "        \n",
        "        with open(dest_path, 'wb') as f:\n",
        "            for chunk in response.iter_content(chunk_size=8192):\n",
        "                f.write(chunk)\n",
        "                \n",
        "        print(f\"Downloaded {dest_path.name} successfully\")\n",
        "        return True\n",
        "    except Exception as e:\n",
        "        print(f\"Error downloading {dest_path.name}: {e}\")\n",
        "        return False\n",
        "\n",
        "# Download files\n",
        "for filename, file_info in SCENARIO_FILES.items():\n",
        "    dest_path = SCENARIOS_DIR / filename\n",
        "    if download_file(file_info[\"url\"], dest_path):\n",
        "        if file_info[\"checksum\"]:\n",
        "            # Verify checksum if provided\n",
        "            with open(dest_path, \"rb\") as f:\n",
        "                file_hash = hashlib.sha256(f.read()).hexdigest()\n",
        "                assert file_hash == file_info[\"checksum\"], f\"Checksum mismatch for {filename}\"\n",
        "\n",
        "# Export paths for other cells\n",
        "SCENARIO_PATH = str(SCENARIOS_DIR / \"deathmatch.cfg\")\n",
        "WAD_PATH = str(SCENARIOS_DIR / \"deathmatch.wad\")\n",
        "\n",
        "print(f\"Setup complete:\")\n",
        "print(f\"Scenario path: {SCENARIO_PATH}\")\n",
        "print(f\"WAD path: {WAD_PATH}\")"
      ]
    },
    {
      "cell_type": "code",
      "execution_count": 9,
      "metadata": {
        "id": "d1edJRbIcczE"
      },
      "outputs": [],
      "source": [
        "# CELL 4: Define ViZDoom Environment with Reward Shaping (Corrected)\n",
        "\n",
        "from vizdoom import *\n",
        "import numpy as np\n",
        "import gymnasium as gym\n",
        "from gymnasium import spaces\n",
        "\n",
        "# Define local path for WAD file here to ensure it's accessible\n",
        "LOCAL_WAD_PATH = \"/content/scenarios/freedoom2.wad\"  # This should be freedoom2.wad\n",
        "\n",
        "class VizdoomEnv(gym.Env):\n",
        "    def __init__(self, scenario_path, frame_skip=4):\n",
        "        super(VizdoomEnv, self).__init__()\n",
        "        self.game = DoomGame()\n",
        "        self.game.load_config(scenario_path)\n",
        "        self.game.set_doom_game_path(LOCAL_WAD_PATH)  # Use freedoom2.wad here\n",
        "        self.game.set_window_visible(False)\n",
        "        self.game.set_mode(Mode.PLAYER)\n",
        "        self.game.set_screen_format(ScreenFormat.GRAY8)\n",
        "        self.game.set_screen_resolution(ScreenResolution.RES_640X480)\n",
        "        self.game.init()\n",
        "\n",
        "        self.frame_skip = frame_skip\n",
        "        self.action_space = spaces.Discrete(self.game.get_available_buttons_size())\n",
        "        self.observation_space = spaces.Box(low=0, high=255, shape=(self.game.get_screen_height(), self.game.get_screen_width(), 1), dtype=np.uint8)\n",
        "\n",
        "        # Initialize variables for reward shaping\n",
        "        self.previous_game_variables = None\n",
        "\n",
        "    def step(self, action):\n",
        "        buttons = np.zeros(self.game.get_available_buttons_size())\n",
        "        buttons[action] = 1\n",
        "\n",
        "        reward = self.game.make_action(buttons.tolist(), self.frame_skip)\n",
        "        done = self.game.is_episode_finished()\n",
        "\n",
        "        state = self.game.get_state().screen_buffer if not done else np.zeros(self.observation_space.shape, dtype=np.uint8)\n",
        "        state = np.expand_dims(state, axis=-1)\n",
        "\n",
        "        shaped_reward = reward + self._shape_reward()\n",
        "\n",
        "        return state, shaped_reward, done, False, {}\n",
        "\n",
        "    def _shape_reward(self):\n",
        "      # Get current game variables\n",
        "      current_game_vars = self.game.get_state().game_variables if self.game.get_state() else None\n",
        "\n",
        "      # Initialize reward\n",
        "      reward = 0\n",
        "\n",
        "      # If this is the first step or the episode is over, set previous variables and return 0 reward\n",
        "      if current_game_vars is None or self.previous_game_variables is None:\n",
        "          self.previous_game_variables = current_game_vars\n",
        "          return reward\n",
        "\n",
        "      # Calculate reward based on changes in game variables\n",
        "      reward += (current_game_vars[0] - self.previous_game_variables[0]) * 100.0  # Reward for kills\n",
        "      reward -= (self.previous_game_variables[2] - current_game_vars[2]) * 0.1  # Penalty for ammo used\n",
        "      reward -= (self.previous_game_variables[1] - current_game_vars[1])  # Penalty for health loss\n",
        "      reward += 0.1  # Encourage survival\n",
        "\n",
        "      # Reward for getting closer to enemies\n",
        "      min_dist_now = self._get_closest_enemy_distance()\n",
        "      if hasattr(self, 'min_dist_prev'):\n",
        "          if min_dist_now < self.min_dist_prev and min_dist_now < 500:\n",
        "              reward += 0.05\n",
        "          elif min_dist_now > self.min_dist_prev and self.min_dist_prev < 500:\n",
        "              reward -= 0.05\n",
        "      self.min_dist_prev = min_dist_now\n",
        "\n",
        "      # Update previous game variables for the next step\n",
        "      self.previous_game_variables = current_game_vars\n",
        "\n",
        "      return reward\n",
        "\n",
        "    def _get_closest_enemy_distance(self):\n",
        "      min_dist = float('inf')\n",
        "      current_game_vars = self.game.get_state().game_variables if self.game.get_state() else None\n",
        "\n",
        "      if current_game_vars is None:\n",
        "          return min_dist\n",
        "\n",
        "      px, py = current_game_vars[3], current_game_vars[4]\n",
        "\n",
        "      for obj in self.game.get_state().objects:\n",
        "          if obj.is_enemy():\n",
        "              dist = ((px - obj.position_x)**2 + (py - obj.position_y)**2)**0.5\n",
        "              min_dist = min(min_dist, dist)\n",
        "\n",
        "      return min_dist\n",
        "\n",
        "    def reset(self, seed=None, options=None):\n",
        "        super().reset(seed=seed)\n",
        "        self.game.new_episode()\n",
        "        state = self.game.get_state().screen_buffer\n",
        "        state = np.expand_dims(state, axis=-1)\n",
        "        self.previous_game_variables = None # Reset for reward shaping\n",
        "        self.min_dist_prev = float('inf')\n",
        "        return state, {}\n",
        "\n",
        "    def close(self):\n",
        "        self.game.close()"
      ]
    },
    {
      "cell_type": "code",
      "execution_count": 10,
      "metadata": {
        "colab": {
          "base_uri": "https://localhost:8080/"
        },
        "id": "M24ZgenSdf7c",
        "outputId": "5a24f796-82fc-42a1-b2c3-10bb8e7405f4"
      },
      "outputs": [
        {
          "name": "stdout",
          "output_type": "stream",
          "text": [
            "Enter the number of training timesteps: 10\n",
            "Do you want to load a pre-trained model? (yes/no): no\n"
          ]
        },
        {
          "name": "stderr",
          "output_type": "stream",
          "text": [
            "ERROR:root:Error creating environment or PPO model: File \"/content/scenarios/deathmatch.wad\" does not exist.\n",
            "ERROR:root:Model or environment was not created successfully.\n",
            "ERROR:root:Error during model training: 'NoneType' object has no attribute 'learn'\n",
            "ERROR:root:Error saving the final model locally: 'NoneType' object has no attribute 'save'\n"
          ]
        },
        {
          "name": "stdout",
          "output_type": "stream",
          "text": [
            "Error creating environment or PPO model: File \"/content/scenarios/deathmatch.wad\" does not exist.\n",
            "Model or environment was not created successfully.\n",
            "Error during model training: 'NoneType' object has no attribute 'learn'\n",
            "Error saving the final model locally: 'NoneType' object has no attribute 'save'\n",
            "Training process completed.\n"
          ]
        }
      ],
      "source": [
        "# CELL 5: Train Agent\n",
        "from stable_baselines3 import PPO\n",
        "from stable_baselines3.common.monitor import Monitor\n",
        "from stable_baselines3.common.callbacks import CheckpointCallback\n",
        "\n",
        "# Create and wrap environment\n",
        "env = ViZDoomEnv(SCENARIO_PATH)\n",
        "env = Monitor(env, \"logs\")\n",
        "\n",
        "# Create agent\n",
        "model = PPO(\"CnnPolicy\", env, verbose=1, tensorboard_log=\"logs\")\n",
        "\n",
        "# Setup checkpointing\n",
        "checkpoint_callback = CheckpointCallback(\n",
        "    save_freq=10000,\n",
        "    save_path=\"./models\",\n",
        "    name_prefix=\"doom_ppo\"\n",
        ")\n",
        "\n",
        "# Train\n",
        "TIMESTEPS = 100000\n",
        "model.learn(total_timesteps=TIMESTEPS, callback=checkpoint_callback)\n",
        "\n",
        "# Save final model\n",
        "model.save(\"models/doom_ppo_final\")"
      ]
    }
  ],
  "metadata": {
    "colab": {
      "authorship_tag": "ABX9TyMFClB4CxQjCHZHHDQGHQPF",
      "include_colab_link": true,
      "mount_file_id": "1ut4skXBOXQJo_bjT_9PqUpOtZSuvRRdL",
      "provenance": []
    },
    "kernelspec": {
      "display_name": "Python 3",
      "name": "python3"
    },
    "language_info": {
      "name": "python"
    }
  },
  "nbformat": 4,
  "nbformat_minor": 0
}
